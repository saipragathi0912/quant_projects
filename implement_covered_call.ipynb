{
 "cells": [
  {
   "cell_type": "code",
   "execution_count": 23,
   "id": "initial_id",
   "metadata": {
    "collapsed": true,
    "ExecuteTime": {
     "end_time": "2024-03-12T14:48:54.628082Z",
     "start_time": "2024-03-12T14:48:54.624563Z"
    }
   },
   "outputs": [],
   "source": [
    "import numpy as np\n",
    "import yfinance as yf"
   ]
  },
  {
   "cell_type": "code",
   "outputs": [],
   "source": [
    "# Assume you own 5 Large cap companies for now\n",
    "companies = [\"IBM\",\"GOOG\",\"MSFT\",\"JPMCL.SN\",\"GLE.PA\"]"
   ],
   "metadata": {
    "collapsed": false,
    "ExecuteTime": {
     "end_time": "2024-03-12T14:48:55.254432Z",
     "start_time": "2024-03-12T14:48:55.246552Z"
    }
   },
   "id": "c18356f8fb30f5da",
   "execution_count": 24
  },
  {
   "cell_type": "markdown",
   "source": [
    "### Calculate Percent Change"
   ],
   "metadata": {
    "collapsed": false
   },
   "id": "7ce49831514afed5"
  },
  {
   "cell_type": "code",
   "outputs": [],
   "source": [
    "def calculate_percent_change(tk_symbol):\n",
    "    perc_changes = np.ones(tk_symbol.shape[0])\n",
    "    count = 0\n",
    "    for i in list(tk_symbol.index):\n",
    "        open_ = tk_symbol.loc[i][\"Open\"]\n",
    "        close_ = tk_symbol.loc[i][\"Close\"]\n",
    "        try:\n",
    "            perc_changes[count] = (close_ - open_) / open_\n",
    "        except ZeroDivisionError:\n",
    "            perc_changes[count] = ((close_ - open_)+1) / (open_+1)\n",
    "        count+=1\n",
    "    tk_symbol[\"Percent Change\"] = perc_changes\n",
    "    return tk_symbol, np.average(perc_changes)"
   ],
   "metadata": {
    "collapsed": false,
    "ExecuteTime": {
     "end_time": "2024-03-12T15:01:19.415890Z",
     "start_time": "2024-03-12T15:01:19.411129Z"
    }
   },
   "id": "a51d509f4fdbfb3f",
   "execution_count": 43
  },
  {
   "cell_type": "code",
   "outputs": [
    {
     "name": "stdout",
     "output_type": "stream",
     "text": [
      "0.00018300850917621608\n",
      "0.0009158818511195118\n",
      "0.0003592108840268241\n",
      "-0.009184992749904206\n",
      "-0.0007990776191771857\n"
     ]
    }
   ],
   "source": [
    "company_dfs = dict()\n",
    "percent_changes = dict()\n",
    "for company in companies:\n",
    "    ticker = yf.Ticker(company)\n",
    "    company_data = ticker.history(start = \"2018-01-01\",end = \"2024-01-01\" )\n",
    "    company_data, avg_perc_change = calculate_percent_change(company_data)\n",
    "    percent_changes[company] = avg_perc_change\n",
    "    company_dfs[company] = company_data\n",
    "    print(avg_perc_change)"
   ],
   "metadata": {
    "collapsed": false,
    "ExecuteTime": {
     "end_time": "2024-03-12T15:05:31.875347Z",
     "start_time": "2024-03-12T15:05:30.000022Z"
    }
   },
   "id": "7bd8855a89b1f36a",
   "execution_count": 45
  },
  {
   "cell_type": "code",
   "outputs": [
    {
     "name": "stdout",
     "output_type": "stream",
     "text": [
      "138.63938903808594\n"
     ]
    }
   ],
   "source": [
    "# Let's assume current date is 3 months before 1st January 2024\n",
    "current_value = company_dfs[\"IBM\"].iloc[company_dfs[\"IBM\"].shape[0]-91][\"Close\"]\n",
    "print(current_value)"
   ],
   "metadata": {
    "collapsed": false,
    "ExecuteTime": {
     "end_time": "2024-03-12T15:10:15.870205Z",
     "start_time": "2024-03-12T15:10:15.832695Z"
    }
   },
   "id": "628899827059dcd7",
   "execution_count": 57
  },
  {
   "cell_type": "markdown",
   "source": [
    "### Predict Future Price "
   ],
   "metadata": {
    "collapsed": false
   },
   "id": "14f706f74d466e96"
  },
  {
   "cell_type": "code",
   "outputs": [],
   "source": [],
   "metadata": {
    "collapsed": false
   },
   "id": "610b0dfb65e6524c"
  }
 ],
 "metadata": {
  "kernelspec": {
   "display_name": "Python 3",
   "language": "python",
   "name": "python3"
  },
  "language_info": {
   "codemirror_mode": {
    "name": "ipython",
    "version": 2
   },
   "file_extension": ".py",
   "mimetype": "text/x-python",
   "name": "python",
   "nbconvert_exporter": "python",
   "pygments_lexer": "ipython2",
   "version": "2.7.6"
  }
 },
 "nbformat": 4,
 "nbformat_minor": 5
}
